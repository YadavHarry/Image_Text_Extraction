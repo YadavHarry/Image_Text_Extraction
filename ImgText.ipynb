{
 "cells": [
  {
   "cell_type": "code",
   "execution_count": 1,
   "id": "7533fa29-90c9-46ea-acc7-360afc1226bc",
   "metadata": {},
   "outputs": [
    {
     "name": "stdout",
     "output_type": "stream",
     "text": [
      "Collecting pytesseract\n",
      "  Downloading pytesseract-0.3.13-py3-none-any.whl.metadata (11 kB)\n",
      "Requirement already satisfied: Pillow in c:\\users\\admin\\anaconda3\\lib\\site-packages (10.3.0)\n",
      "Requirement already satisfied: packaging>=21.3 in c:\\users\\admin\\anaconda3\\lib\\site-packages (from pytesseract) (23.2)\n",
      "Downloading pytesseract-0.3.13-py3-none-any.whl (14 kB)\n",
      "Installing collected packages: pytesseract\n",
      "Successfully installed pytesseract-0.3.13\n"
     ]
    }
   ],
   "source": [
    "!pip install pytesseract Pillow\n"
   ]
  },
  {
   "cell_type": "code",
   "execution_count": 13,
   "id": "b8bf19fa-312f-46f4-9bb7-928455d4e22e",
   "metadata": {},
   "outputs": [
    {
     "name": "stdout",
     "output_type": "stream",
     "text": [
      "Text om image is: \n",
      "I Like School\n",
      "\n",
      "by Lenore Hetrick\n",
      "\n",
      "I like to hear the schoo! bell ring,\n",
      "‘And see the children get in line.\n",
      "\n",
      "Then we go marching past the teacher,\n",
      "‘And pass so straight and tall and fine.\n",
      "\n",
      "like to sing the morning songs,\n",
      "‘And give the pledge to our dear flag.\n",
      "There are so many things I like\n",
      "\n",
      "That time I find can never lag\n",
      "\n"
     ]
    }
   ],
   "source": [
    "from PIL import Image\n",
    "import pytesseract\n",
    "image_path = 'sampletest2.png'  \n",
    "image = Image.open(image_path)\n",
    "extracted_text = pytesseract.image_to_string(image)\n",
    "print(\"Text om image is: \")\n",
    "print(extracted_text)\n"
   ]
  },
  {
   "cell_type": "code",
   "execution_count": 7,
   "id": "1afdad89-985e-4df1-ba87-db9a310707a6",
   "metadata": {},
   "outputs": [],
   "source": [
    "import pytesseract\n",
    "\n",
    "# Point to the tesseract executable\n",
    "pytesseract.pytesseract.tesseract_cmd = r'C:\\Program Files\\Tesseract-OCR\\tesseract.exe'  # Update with your path\n"
   ]
  },
  {
   "cell_type": "code",
   "execution_count": null,
   "id": "eb1d7395-1268-4cdc-89ba-0a62e8ae7a71",
   "metadata": {},
   "outputs": [],
   "source": []
  }
 ],
 "metadata": {
  "kernelspec": {
   "display_name": "Python 3 (ipykernel)",
   "language": "python",
   "name": "python3"
  },
  "language_info": {
   "codemirror_mode": {
    "name": "ipython",
    "version": 3
   },
   "file_extension": ".py",
   "mimetype": "text/x-python",
   "name": "python",
   "nbconvert_exporter": "python",
   "pygments_lexer": "ipython3",
   "version": "3.12.4"
  }
 },
 "nbformat": 4,
 "nbformat_minor": 5
}
